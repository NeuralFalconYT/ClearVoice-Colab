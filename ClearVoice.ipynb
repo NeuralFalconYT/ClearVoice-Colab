{
  "nbformat": 4,
  "nbformat_minor": 0,
  "metadata": {
    "colab": {
      "provenance": [],
      "gpuType": "T4"
    },
    "kernelspec": {
      "name": "python3",
      "display_name": "Python 3"
    },
    "language_info": {
      "name": "python"
    },
    "accelerator": "GPU"
  },
  "cells": [
    {
      "cell_type": "markdown",
      "source": [
        "## Credit: [Clearer Voice-Studio](https://github.com/modelscope/ClearerVoice-Studio)\n"
      ],
      "metadata": {
        "id": "d_Wvwkdf2naT"
      }
    },
    {
      "cell_type": "code",
      "execution_count": null,
      "metadata": {
        "cellView": "form",
        "id": "GyLTaDRgx1xF"
      },
      "outputs": [],
      "source": [
        "#@title Install and Restart Session\n",
        "!rm -rf /content/ClearVoice\n",
        "!rm -rf /content/ClearVoice-Colab\n",
        "%cd /content\n",
        "!git lfs install\n",
        "!git clone https://huggingface.co/spaces/alibabasglab/ClearVoice\n",
        "!git clone https://github.com/NeuralFalconYT/ClearVoice-Colab.git\n",
        "!cp /content/ClearVoice-Colab/run.py /content/ClearVoice/run.py\n",
        "!pip install -r /content/ClearVoice-Colab/requirements.txt\n",
        "from IPython.display import clear_output\n",
        "clear_output()\n",
        "import time\n",
        "time.sleep(5)\n",
        "import os\n",
        "os.kill(os.getpid(), 9)"
      ]
    },
    {
      "cell_type": "code",
      "source": [
        "%cd /content/ClearVoice\n",
        "!python run.py --debug --share"
      ],
      "metadata": {
        "id": "9mBfFPBjyDhR"
      },
      "execution_count": null,
      "outputs": []
    }
  ]
}